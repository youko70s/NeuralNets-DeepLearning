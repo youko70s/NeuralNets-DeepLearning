{
  "nbformat": 4,
  "nbformat_minor": 0,
  "metadata": {
    "colab": {
      "name": "Untitled3.ipynb",
      "provenance": [],
      "collapsed_sections": []
    },
    "kernelspec": {
      "name": "python3",
      "display_name": "Python 3"
    }
  },
  "cells": [
    {
      "cell_type": "code",
      "metadata": {
        "id": "_qIh4rK9OV-s",
        "colab_type": "code",
        "colab": {}
      },
      "source": [
        "from keras.layers import Input, Dense\n",
        "from keras.models import Model, Sequential\n",
        "from keras.datasets import mnist\n",
        "import numpy as np\n",
        "import matplotlib.pyplot as plt\n",
        "from keras.layers import Dense, Conv2D, Dropout, BatchNormalization, Input, Reshape, Flatten, Deconvolution2D, Conv2DTranspose, MaxPooling2D, UpSampling2D\n",
        "from keras.layers.advanced_activations import LeakyReLU\n",
        "from keras.optimizers import adam\n",
        "from keras.models import Model\n",
        "from keras import backend as K\n",
        "%matplotlib inline"
      ],
      "execution_count": 0,
      "outputs": []
    },
    {
      "cell_type": "markdown",
      "metadata": {
        "id": "0gD3aBe1OY-X",
        "colab_type": "text"
      },
      "source": [
        "# Autoencoder"
      ]
    },
    {
      "cell_type": "code",
      "metadata": {
        "id": "YeD7PSKPOYW6",
        "colab_type": "code",
        "colab": {
          "base_uri": "https://localhost:8080/",
          "height": 35
        },
        "outputId": "19138014-0ae1-42af-fdfa-4ad528cbb1e7"
      },
      "source": [
        "# load data \n",
        "(x_train, y_train), (x_test, y_test) = mnist.load_data()\n",
        "\n",
        "x_train = x_train.astype('float32') / 255.\n",
        "x_test = x_test.astype('float32') / 255.\n",
        "x_train = np.reshape(x_train, (len(x_train), 28, 28, 1))  \n",
        "x_test = np.reshape(x_test, (len(x_test), 28, 28, 1))\n",
        "print(x_test.shape)"
      ],
      "execution_count": 71,
      "outputs": [
        {
          "output_type": "stream",
          "text": [
            "(10000, 28, 28, 1)\n"
          ],
          "name": "stdout"
        }
      ]
    },
    {
      "cell_type": "code",
      "metadata": {
        "id": "4tQVb2tlO8Ox",
        "colab_type": "code",
        "colab": {}
      },
      "source": [
        "#construct encoder\n",
        "inp = Input(shape = (28, 28, 1))\n",
        "e = Conv2D(32, (3, 3), activation='relu',padding='same')(inp)\n",
        "e = MaxPooling2D((2, 2),padding='same')(e)\n",
        "e = Conv2D(64, (3, 3), activation='relu',padding='same')(e)\n",
        "e = MaxPooling2D((2, 2),padding='same')(e)\n",
        "e = Conv2D(64, (3, 3), activation='relu',padding='same')(e)\n",
        "l = Flatten()(e)\n",
        "l = Dense(49, activation='softmax')(l)\n",
        "# now the representation is (4,4,8), 128 dim"
      ],
      "execution_count": 0,
      "outputs": []
    },
    {
      "cell_type": "code",
      "metadata": {
        "id": "-2BaZcPexa_E",
        "colab_type": "code",
        "colab": {
          "base_uri": "https://localhost:8080/",
          "height": 973
        },
        "outputId": "b91c21b8-dd45-4404-f400-6019e337399e"
      },
      "source": [
        "# construct decoder\n",
        "d = Reshape((7,7,1))(l)\n",
        "d = Conv2DTranspose(64,(3, 3), strides=2, activation='relu', padding='same')(d)\n",
        "d = BatchNormalization()(d)\n",
        "d = Conv2DTranspose(64,(3, 3), strides=2, activation='relu', padding='same')(d)\n",
        "d = BatchNormalization()(d)\n",
        "d = Conv2DTranspose(32,(3, 3), activation='relu', padding='same')(d)\n",
        "decoded = Conv2D(1, (3, 3), activation='sigmoid', padding='same')(d)\n",
        "# build model\n",
        "ae = Model(inp, decoded)\n",
        "ae.summary()\n"
      ],
      "execution_count": 49,
      "outputs": [
        {
          "output_type": "stream",
          "text": [
            "WARNING:tensorflow:From /usr/local/lib/python3.6/dist-packages/keras/backend/tensorflow_backend.py:190: The name tf.get_default_session is deprecated. Please use tf.compat.v1.get_default_session instead.\n",
            "\n",
            "WARNING:tensorflow:From /usr/local/lib/python3.6/dist-packages/keras/backend/tensorflow_backend.py:197: The name tf.ConfigProto is deprecated. Please use tf.compat.v1.ConfigProto instead.\n",
            "\n",
            "WARNING:tensorflow:From /usr/local/lib/python3.6/dist-packages/keras/backend/tensorflow_backend.py:203: The name tf.Session is deprecated. Please use tf.compat.v1.Session instead.\n",
            "\n",
            "WARNING:tensorflow:From /usr/local/lib/python3.6/dist-packages/keras/backend/tensorflow_backend.py:207: The name tf.global_variables is deprecated. Please use tf.compat.v1.global_variables instead.\n",
            "\n",
            "WARNING:tensorflow:From /usr/local/lib/python3.6/dist-packages/keras/backend/tensorflow_backend.py:216: The name tf.is_variable_initialized is deprecated. Please use tf.compat.v1.is_variable_initialized instead.\n",
            "\n",
            "WARNING:tensorflow:From /usr/local/lib/python3.6/dist-packages/keras/backend/tensorflow_backend.py:223: The name tf.variables_initializer is deprecated. Please use tf.compat.v1.variables_initializer instead.\n",
            "\n",
            "WARNING:tensorflow:From /usr/local/lib/python3.6/dist-packages/keras/backend/tensorflow_backend.py:2041: The name tf.nn.fused_batch_norm is deprecated. Please use tf.compat.v1.nn.fused_batch_norm instead.\n",
            "\n",
            "WARNING:tensorflow:From /usr/local/lib/python3.6/dist-packages/keras/backend/tensorflow_backend.py:148: The name tf.placeholder_with_default is deprecated. Please use tf.compat.v1.placeholder_with_default instead.\n",
            "\n",
            "Model: \"model_7\"\n",
            "_________________________________________________________________\n",
            "Layer (type)                 Output Shape              Param #   \n",
            "=================================================================\n",
            "input_10 (InputLayer)        (None, 28, 28, 1)         0         \n",
            "_________________________________________________________________\n",
            "conv2d_54 (Conv2D)           (None, 28, 28, 32)        320       \n",
            "_________________________________________________________________\n",
            "max_pooling2d_21 (MaxPooling (None, 14, 14, 32)        0         \n",
            "_________________________________________________________________\n",
            "conv2d_55 (Conv2D)           (None, 14, 14, 64)        18496     \n",
            "_________________________________________________________________\n",
            "max_pooling2d_22 (MaxPooling (None, 7, 7, 64)          0         \n",
            "_________________________________________________________________\n",
            "conv2d_56 (Conv2D)           (None, 7, 7, 64)          36928     \n",
            "_________________________________________________________________\n",
            "flatten_1 (Flatten)          (None, 3136)              0         \n",
            "_________________________________________________________________\n",
            "dense_1 (Dense)              (None, 49)                153713    \n",
            "_________________________________________________________________\n",
            "reshape_1 (Reshape)          (None, 7, 7, 1)           0         \n",
            "_________________________________________________________________\n",
            "conv2d_transpose_1 (Conv2DTr (None, 14, 14, 64)        640       \n",
            "_________________________________________________________________\n",
            "batch_normalization_1 (Batch (None, 14, 14, 64)        256       \n",
            "_________________________________________________________________\n",
            "conv2d_transpose_2 (Conv2DTr (None, 28, 28, 64)        36928     \n",
            "_________________________________________________________________\n",
            "batch_normalization_2 (Batch (None, 28, 28, 64)        256       \n",
            "_________________________________________________________________\n",
            "conv2d_transpose_3 (Conv2DTr (None, 28, 28, 32)        18464     \n",
            "_________________________________________________________________\n",
            "conv2d_57 (Conv2D)           (None, 28, 28, 1)         289       \n",
            "=================================================================\n",
            "Total params: 266,290\n",
            "Trainable params: 266,034\n",
            "Non-trainable params: 256\n",
            "_________________________________________________________________\n"
          ],
          "name": "stdout"
        }
      ]
    },
    {
      "cell_type": "code",
      "metadata": {
        "id": "0dmg0KzIziwp",
        "colab_type": "code",
        "colab": {}
      },
      "source": [
        "ae.compile(optimizer=\"adam\", loss=\"mse\")\n"
      ],
      "execution_count": 0,
      "outputs": []
    },
    {
      "cell_type": "code",
      "metadata": {
        "id": "oluVNgKv1jFe",
        "colab_type": "code",
        "colab": {
          "base_uri": "https://localhost:8080/",
          "height": 193
        },
        "outputId": "08ffff23-8066-48e0-d6ba-1e1daf6b15c4"
      },
      "source": [
        "ae.fit(x_train, x_train, epochs=2)"
      ],
      "execution_count": 52,
      "outputs": [
        {
          "output_type": "stream",
          "text": [
            "WARNING:tensorflow:From /usr/local/lib/python3.6/dist-packages/keras/backend/tensorflow_backend.py:1033: The name tf.assign_add is deprecated. Please use tf.compat.v1.assign_add instead.\n",
            "\n",
            "WARNING:tensorflow:From /usr/local/lib/python3.6/dist-packages/keras/backend/tensorflow_backend.py:1020: The name tf.assign is deprecated. Please use tf.compat.v1.assign instead.\n",
            "\n",
            "Epoch 1/2\n",
            "60000/60000 [==============================] - 474s 8ms/step - loss: 0.0144\n",
            "Epoch 2/2\n",
            "60000/60000 [==============================] - 472s 8ms/step - loss: 0.0079\n"
          ],
          "name": "stdout"
        },
        {
          "output_type": "execute_result",
          "data": {
            "text/plain": [
              "<keras.callbacks.History at 0x7f70e6b3f240>"
            ]
          },
          "metadata": {
            "tags": []
          },
          "execution_count": 52
        }
      ]
    },
    {
      "cell_type": "code",
      "metadata": {
        "id": "9jpHGtM7ztDj",
        "colab_type": "code",
        "colab": {
          "base_uri": "https://localhost:8080/",
          "height": 283
        },
        "outputId": "3d0bd270-b89f-4e39-d6b0-3b7479fe4d39"
      },
      "source": [
        "# visualize some examples\n",
        "x =x_train[0].reshape(28,28)\n",
        "plt.imshow(x)"
      ],
      "execution_count": 60,
      "outputs": [
        {
          "output_type": "execute_result",
          "data": {
            "text/plain": [
              "<matplotlib.image.AxesImage at 0x7f70e6b18ac8>"
            ]
          },
          "metadata": {
            "tags": []
          },
          "execution_count": 60
        },
        {
          "output_type": "display_data",
          "data": {
            "image/png": "[encoded data removed]",
            "text/plain": [
              "<Figure size 432x288 with 1 Axes>"
            ]
          },
          "metadata": {
            "tags": []
          }
        }
      ]
    },
    {
      "cell_type": "code",
      "metadata": {
        "id": "Bjn60cTV46Xo",
        "colab_type": "code",
        "colab": {
          "base_uri": "https://localhost:8080/",
          "height": 300
        },
        "outputId": "97679aa9-2b7b-4b2d-e9bd-185abeb6a141"
      },
      "source": [
        "prediction = ae.predict(x_train, verbose=1, batch_size=100)\n",
        "x =prediction[0].reshape(28,28)\n",
        "plt.imshow(x)"
      ],
      "execution_count": 61,
      "outputs": [
        {
          "output_type": "stream",
          "text": [
            "60000/60000 [==============================] - 171s 3ms/step\n"
          ],
          "name": "stdout"
        },
        {
          "output_type": "execute_result",
          "data": {
            "text/plain": [
              "<matplotlib.image.AxesImage at 0x7f70df641ef0>"
            ]
          },
          "metadata": {
            "tags": []
          },
          "execution_count": 61
        },
        {
          "output_type": "display_data",
          "data": {
            "image/png": "[encoded data removed]",
            "text/plain": [
              "<Figure size 432x288 with 1 Axes>"
            ]
          },
          "metadata": {
            "tags": []
          }
        }
      ]
    },
    {
      "cell_type": "code",
      "metadata": {
        "id": "vNc6_46az88l",
        "colab_type": "code",
        "colab": {
          "base_uri": "https://localhost:8080/",
          "height": 283
        },
        "outputId": "ac780b5a-ddc7-48b1-e4a1-d78503937d15"
      },
      "source": [
        "x =x_train[33].reshape(28,28)\n",
        "plt.imshow(x)"
      ],
      "execution_count": 62,
      "outputs": [
        {
          "output_type": "execute_result",
          "data": {
            "text/plain": [
              "<matplotlib.image.AxesImage at 0x7f70df597cc0>"
            ]
          },
          "metadata": {
            "tags": []
          },
          "execution_count": 62
        },
        {
          "output_type": "display_data",
          "data": {
            "image/png": "[encoded data removed]",
            "text/plain": [
              "<Figure size 432x288 with 1 Axes>"
            ]
          },
          "metadata": {
            "tags": []
          }
        }
      ]
    },
    {
      "cell_type": "code",
      "metadata": {
        "id": "VkrED3JB9Usr",
        "colab_type": "code",
        "colab": {
          "base_uri": "https://localhost:8080/",
          "height": 283
        },
        "outputId": "37751bfd-e6a3-49df-ac91-2622481f6959"
      },
      "source": [
        "x =prediction[33].reshape(28,28)\n",
        "plt.imshow(x)"
      ],
      "execution_count": 63,
      "outputs": [
        {
          "output_type": "execute_result",
          "data": {
            "text/plain": [
              "<matplotlib.image.AxesImage at 0x7f70df56ed68>"
            ]
          },
          "metadata": {
            "tags": []
          },
          "execution_count": 63
        },
        {
          "output_type": "display_data",
          "data": {
            "image/png": "[encoded data removed]",
            "text/plain": [
              "<Figure size 432x288 with 1 Axes>"
            ]
          },
          "metadata": {
            "tags": []
          }
        }
      ]
    },
    {
      "cell_type": "code",
      "metadata": {
        "id": "LJ9G6wnH9mTv",
        "colab_type": "code",
        "colab": {
          "base_uri": "https://localhost:8080/",
          "height": 283
        },
        "outputId": "e03cd409-0b19-4f77-f535-8b437580cfcf"
      },
      "source": [
        "x =x_train[100].reshape(28,28)\n",
        "plt.imshow(x)"
      ],
      "execution_count": 64,
      "outputs": [
        {
          "output_type": "execute_result",
          "data": {
            "text/plain": [
              "<matplotlib.image.AxesImage at 0x7f70df4cee10>"
            ]
          },
          "metadata": {
            "tags": []
          },
          "execution_count": 64
        },
        {
          "output_type": "display_data",
          "data": {
            "image/png": "[encoded data removed]",
            "text/plain": [
              "<Figure size 432x288 with 1 Axes>"
            ]
          },
          "metadata": {
            "tags": []
          }
        }
      ]
    },
    {
      "cell_type": "code",
      "metadata": {
        "id": "b37owyZL9nvq",
        "colab_type": "code",
        "colab": {
          "base_uri": "https://localhost:8080/",
          "height": 283
        },
        "outputId": "0e89d58b-5b1e-4f90-cde4-34b6b0179238"
      },
      "source": [
        "x =prediction[100].reshape(28,28)\n",
        "plt.imshow(x)"
      ],
      "execution_count": 65,
      "outputs": [
        {
          "output_type": "execute_result",
          "data": {
            "text/plain": [
              "<matplotlib.image.AxesImage at 0x7f70df4acef0>"
            ]
          },
          "metadata": {
            "tags": []
          },
          "execution_count": 65
        },
        {
          "output_type": "display_data",
          "data": {
            "image/png": "[encoded data removed]",
            "text/plain": [
              "<Figure size 432x288 with 1 Axes>"
            ]
          },
          "metadata": {
            "tags": []
          }
        }
      ]
    },
    {
      "cell_type": "markdown",
      "metadata": {
        "id": "eBqrjtIN992S",
        "colab_type": "text"
      },
      "source": [
        "# Image Classification\n",
        "## 2.1 Deep CNN"
      ]
    },
    {
      "cell_type": "code",
      "metadata": {
        "id": "gFKar_vqBooU",
        "colab_type": "code",
        "colab": {
          "base_uri": "https://localhost:8080/",
          "height": 35
        },
        "outputId": "54dd3dba-ebe9-4bbb-813b-8705e470bfcc"
      },
      "source": [
        "from keras.utils import to_categorical\n",
        "#one-hot encode target column\n",
        "y_train = to_categorical(y_train)\n",
        "y_test = to_categorical(y_test)\n",
        "y_train[0]"
      ],
      "execution_count": 72,
      "outputs": [
        {
          "output_type": "execute_result",
          "data": {
            "text/plain": [
              "array([0., 0., 0., 0., 0., 1., 0., 0., 0., 0.], dtype=float32)"
            ]
          },
          "metadata": {
            "tags": []
          },
          "execution_count": 72
        }
      ]
    },
    {
      "cell_type": "code",
      "metadata": {
        "id": "jAt1lNu_-EOw",
        "colab_type": "code",
        "colab": {}
      },
      "source": [
        "# build the model\n",
        "model = Sequential()\n",
        "# add layers\n",
        "model.add(Conv2D(64,kernel_size=3,activation='relu',strides=(1,1),padding='same',input_shape = (28,28,1)))\n",
        "model.add(Conv2D(32,kernel_size=3,activation='relu',strides=(1,1),padding='same'))\n",
        "model.add(Flatten())\n",
        "model.add(Dense(10,activation='softmax'))\n"
      ],
      "execution_count": 0,
      "outputs": []
    },
    {
      "cell_type": "markdown",
      "metadata": {
        "id": "D8rqBmxA_rVv",
        "colab_type": "text"
      },
      "source": [
        "explanation on the model:\n",
        "\n",
        "my first 2 layers are Conv2D layers. These will deal with our input images. The first convolutional layer has 64 nodes, and has 3*3 filter matrices. Our activation function is relu function. I am using default stride = 1, and  padding = 'same', which will result in padding the input such that the output has the same length as the original input.\n",
        "\n",
        "My second convolutional layer is similar to the first except that it has 32 nodes.\n",
        "\n",
        "Then I built a flatten layer here, as a connection between the convolution and dense layers.\n",
        "\n",
        "The dense layer is for our input. Because we have 10 possible outcomes, we assign 10 nodes for the dense layer. \n",
        "\n",
        "The depth of my network is 4.\n",
        "\n"
      ]
    },
    {
      "cell_type": "code",
      "metadata": {
        "id": "W7gf8enD_l2_",
        "colab_type": "code",
        "colab": {
          "base_uri": "https://localhost:8080/",
          "height": 295
        },
        "outputId": "b13cbc60-9c27-4ee6-93f9-b0d1b8fc0275"
      },
      "source": [
        "# compile the model\n",
        "model.compile(optimizer='adam', loss='categorical_crossentropy', metrics=['accuracy'])\n",
        "model.summary()"
      ],
      "execution_count": 70,
      "outputs": [
        {
          "output_type": "stream",
          "text": [
            "Model: \"sequential_1\"\n",
            "_________________________________________________________________\n",
            "Layer (type)                 Output Shape              Param #   \n",
            "=================================================================\n",
            "conv2d_58 (Conv2D)           (None, 26, 26, 64)        640       \n",
            "_________________________________________________________________\n",
            "conv2d_59 (Conv2D)           (None, 24, 24, 32)        18464     \n",
            "_________________________________________________________________\n",
            "flatten_2 (Flatten)          (None, 18432)             0         \n",
            "_________________________________________________________________\n",
            "dense_2 (Dense)              (None, 10)                184330    \n",
            "=================================================================\n",
            "Total params: 203,434\n",
            "Trainable params: 203,434\n",
            "Non-trainable params: 0\n",
            "_________________________________________________________________\n"
          ],
          "name": "stdout"
        }
      ]
    },
    {
      "cell_type": "code",
      "metadata": {
        "id": "RdTL8iDtBUiD",
        "colab_type": "code",
        "colab": {
          "base_uri": "https://localhost:8080/",
          "height": 156
        },
        "outputId": "f936e13a-417a-4618-9fb5-2c91f5b33200"
      },
      "source": [
        "# train the model for 3 epoches\n",
        "model.fit(x_train, y_train, validation_data=(x_test, y_test), epochs=3)"
      ],
      "execution_count": 73,
      "outputs": [
        {
          "output_type": "stream",
          "text": [
            "Train on 60000 samples, validate on 10000 samples\n",
            "Epoch 1/3\n",
            "60000/60000 [==============================] - 178s 3ms/step - loss: 0.1296 - acc: 0.9608 - val_loss: 0.0608 - val_acc: 0.9807\n",
            "Epoch 2/3\n",
            "60000/60000 [==============================] - 176s 3ms/step - loss: 0.0504 - acc: 0.9842 - val_loss: 0.0504 - val_acc: 0.9835\n",
            "Epoch 3/3\n",
            "60000/60000 [==============================] - 177s 3ms/step - loss: 0.0329 - acc: 0.9896 - val_loss: 0.0406 - val_acc: 0.9873\n"
          ],
          "name": "stdout"
        },
        {
          "output_type": "execute_result",
          "data": {
            "text/plain": [
              "<keras.callbacks.History at 0x7f70df4384a8>"
            ]
          },
          "metadata": {
            "tags": []
          },
          "execution_count": 73
        }
      ]
    },
    {
      "cell_type": "markdown",
      "metadata": {
        "id": "_sgSEMsuB3Mn",
        "colab_type": "text"
      },
      "source": [
        "after 3 epoches, we can see that our model's accuracy on training dataset is 98.96%, on test set is 98.73%. (Since we are using test set as validation set here).  "
      ]
    },
    {
      "cell_type": "markdown",
      "metadata": {
        "id": "8k01N5WhD78A",
        "colab_type": "text"
      },
      "source": [
        "## 2.2 Transfer Learning\n",
        "\n",
        "using VGG for Mnist image classification. "
      ]
    },
    {
      "cell_type": "code",
      "metadata": {
        "id": "XLo9_i7xGlNa",
        "colab_type": "code",
        "colab": {}
      },
      "source": [
        "import sys\n",
        "import numpy as np\n",
        "import cv2\n",
        "import sklearn.metrics as sklm\n",
        "\n",
        "from keras.applications.vgg16 import VGG16\n",
        "from keras.preprocessing import image\n",
        "from keras.applications.vgg16 import preprocess_input\n",
        "from keras.layers import Input, Flatten, Dense\n",
        "from keras.models import Model, load_model\n",
        "from keras.datasets import mnist\n",
        "\n",
        "from keras import backend as K\n",
        "img_dim_ordering = 'th'"
      ],
      "execution_count": 0,
      "outputs": []
    },
    {
      "cell_type": "code",
      "metadata": {
        "id": "5B11sJlZBXnx",
        "colab_type": "code",
        "colab": {}
      },
      "source": [
        "(x_train, y_train), (x_test, y_test) = mnist.load_data()\n",
        "\n",
        "# converting it to RGB\n",
        "x_train = [cv2.cvtColor(cv2.resize(i, (32,32)), cv2.COLOR_GRAY2BGR) for i in x_train]\n",
        "x_train = np.concatenate([arr[np.newaxis] for arr in x_train]).astype('float32')\n",
        "\n",
        "x_test = [cv2.cvtColor(cv2.resize(i, (32,32)), cv2.COLOR_GRAY2BGR) for i in x_test]\n",
        "x_test = np.concatenate([arr[np.newaxis] for arr in x_test]).astype('float32')\n"
      ],
      "execution_count": 0,
      "outputs": []
    },
    {
      "cell_type": "code",
      "metadata": {
        "id": "vZtTbt-PQ3Q4",
        "colab_type": "code",
        "colab": {}
      },
      "source": [
        "x_train.shape[1:]"
      ],
      "execution_count": 0,
      "outputs": []
    },
    {
      "cell_type": "code",
      "metadata": {
        "id": "S6RAQctGIWLN",
        "colab_type": "code",
        "colab": {}
      },
      "source": [
        "model_vgg16_conv = VGG16(weights='imagenet', include_top=False)\n",
        "# Make vgg16 model layers as non trainable\n",
        "for layer in model_vgg16_conv.layers:\n",
        "    layer.trainable = False\n",
        "\n",
        "#Create your own input format\n",
        "inp = Input(shape=(32,32,3))\n",
        "\n",
        "#Use the generated model \n",
        "output_vgg16_conv = model_vgg16_conv(inp)\n",
        "\n",
        "#Add the fully-connected layers \n",
        "x = Flatten(name='flatten')(output_vgg16_conv)\n",
        "x = Dense(256, activation='relu', name='fc1')(x)\n",
        "x = Dense(64, activation='relu', name='fc2')(x)\n",
        "x = Dense(10, activation='softmax', name='predictions')(x)\n",
        "\n",
        "pretrained_model = Model(inputs=inp, outputs=x)\n"
      ],
      "execution_count": 0,
      "outputs": []
    },
    {
      "cell_type": "code",
      "metadata": {
        "id": "hsEDIDcgQ-4P",
        "colab_type": "code",
        "colab": {
          "base_uri": "https://localhost:8080/",
          "height": 364
        },
        "outputId": "6a778bbf-04fb-46fa-e9f0-80dcb3f495b7"
      },
      "source": [
        "pretrained_model.summary()"
      ],
      "execution_count": 112,
      "outputs": [
        {
          "output_type": "stream",
          "text": [
            "Model: \"model_10\"\n",
            "_________________________________________________________________\n",
            "Layer (type)                 Output Shape              Param #   \n",
            "=================================================================\n",
            "input_26 (InputLayer)        (None, 32, 32, 3)         0         \n",
            "_________________________________________________________________\n",
            "vgg16 (Model)                multiple                  14714688  \n",
            "_________________________________________________________________\n",
            "flatten (Flatten)            (None, 512)               0         \n",
            "_________________________________________________________________\n",
            "fc1 (Dense)                  (None, 256)               131328    \n",
            "_________________________________________________________________\n",
            "fc2 (Dense)                  (None, 64)                16448     \n",
            "_________________________________________________________________\n",
            "predictions (Dense)          (None, 10)                650       \n",
            "=================================================================\n",
            "Total params: 14,863,114\n",
            "Trainable params: 148,426\n",
            "Non-trainable params: 14,714,688\n",
            "_________________________________________________________________\n"
          ],
          "name": "stdout"
        }
      ]
    },
    {
      "cell_type": "code",
      "metadata": {
        "id": "sgztr8rSQqwN",
        "colab_type": "code",
        "colab": {}
      },
      "source": [
        "pretrained_model.compile(loss='sparse_categorical_crossentropy', optimizer='adam', metrics=['accuracy'])"
      ],
      "execution_count": 0,
      "outputs": []
    },
    {
      "cell_type": "code",
      "metadata": {
        "id": "1VeKix8dPRKE",
        "colab_type": "code",
        "colab": {
          "base_uri": "https://localhost:8080/",
          "height": 121
        },
        "outputId": "552d10d9-67da-49c4-cf31-3430a46e56c4"
      },
      "source": [
        "# train the model for 2 epoches\n",
        "pretrained_model.fit(x_train, y_train, validation_data=(x_test, y_test), epochs=2)"
      ],
      "execution_count": 118,
      "outputs": [
        {
          "output_type": "stream",
          "text": [
            "Train on 60000 samples, validate on 10000 samples\n",
            "Epoch 1/2\n",
            "60000/60000 [==============================] - 769s 13ms/step - loss: 0.2734 - acc: 0.9140 - val_loss: 0.2025 - val_acc: 0.9334\n",
            "Epoch 2/2\n",
            "60000/60000 [==============================] - 754s 13ms/step - loss: 0.1749 - acc: 0.9436 - val_loss: 0.1774 - val_acc: 0.9453\n"
          ],
          "name": "stdout"
        },
        {
          "output_type": "execute_result",
          "data": {
            "text/plain": [
              "<keras.callbacks.History at 0x7f70d4d59588>"
            ]
          },
          "metadata": {
            "tags": []
          },
          "execution_count": 118
        }
      ]
    },
    {
      "cell_type": "markdown",
      "metadata": {
        "id": "kevaV2jrS_wH",
        "colab_type": "text"
      },
      "source": [
        "after 2 epoches, we can see that our model's accuracy on training dataset is 94.36%, on test set is 94.53%. (Since we are using test set as validation set here)."
      ]
    },
    {
      "cell_type": "markdown",
      "metadata": {
        "id": "iPb0cGeATosv",
        "colab_type": "text"
      },
      "source": [
        "# Text Classification\n",
        "\n",
        "## 3.1 RNN\n",
        "\n",
        "use a embedding + LSTM here"
      ]
    },
    {
      "cell_type": "code",
      "metadata": {
        "id": "149C2OOhHKm4",
        "colab_type": "code",
        "colab": {}
      },
      "source": [
        "from numpy import array\n",
        "from keras.preprocessing.text import one_hot\n",
        "from keras.preprocessing.sequence import pad_sequences\n",
        "from keras.models import Sequential\n",
        "from keras.layers.core import Activation, Dropout, Dense\n",
        "from keras.layers import Flatten, LSTM\n",
        "from keras.layers import GlobalMaxPooling1D\n",
        "from keras.models import Model\n",
        "from keras.layers.embeddings import Embedding\n",
        "from sklearn.model_selection import train_test_split\n",
        "from keras.preprocessing.text import Tokenizer\n",
        "from keras.layers import Input\n",
        "from keras.layers.merge import Concatenate\n",
        "\n",
        "import pandas as pd\n",
        "import numpy as np\n",
        "import re"
      ],
      "execution_count": 0,
      "outputs": []
    },
    {
      "cell_type": "code",
      "metadata": {
        "id": "6YKGSS2mdLqe",
        "colab_type": "code",
        "colab": {}
      },
      "source": [
        "cwd = os.getcwd()"
      ],
      "execution_count": 0,
      "outputs": []
    },
    {
      "cell_type": "code",
      "metadata": {
        "id": "DhVqKfczdNjN",
        "colab_type": "code",
        "colab": {
          "base_uri": "https://localhost:8080/",
          "height": 260
        },
        "outputId": "c19efd5a-5579-46e3-b2b9-172898010236"
      },
      "source": [
        "# --- Config Check --- \n",
        "# - GPU: Check -\n",
        "print(device_lib.list_local_devices())\n",
        "\n",
        "# - Ensuring we have sufficient buffer size -\n",
        "config = tf.ConfigProto()\n",
        "config.gpu_options.allow_growth = True\n",
        "\n",
        "# - Creating session -\n",
        "sess = tf.Session(config=config)"
      ],
      "execution_count": 121,
      "outputs": [
        {
          "output_type": "stream",
          "text": [
            "[name: \"/device:CPU:0\"\n",
            "device_type: \"CPU\"\n",
            "memory_limit: 268435456\n",
            "locality {\n",
            "}\n",
            "incarnation: 14094917259528058921\n",
            ", name: \"/device:XLA_CPU:0\"\n",
            "device_type: \"XLA_CPU\"\n",
            "memory_limit: 17179869184\n",
            "locality {\n",
            "}\n",
            "incarnation: 7219482436328606116\n",
            "physical_device_desc: \"device: XLA_CPU device\"\n",
            "]\n"
          ],
          "name": "stdout"
        }
      ]
    },
    {
      "cell_type": "code",
      "metadata": {
        "id": "X1ytd89NdQAl",
        "colab_type": "code",
        "colab": {}
      },
      "source": [
        "# read in the data\n",
        "from pydrive.auth import GoogleAuth\n",
        "from pydrive.drive import GoogleDrive\n",
        "from google.colab import auth\n",
        "from oauth2client.client import GoogleCredentials"
      ],
      "execution_count": 0,
      "outputs": []
    },
    {
      "cell_type": "code",
      "metadata": {
        "id": "BjLyN4Y1fF8A",
        "colab_type": "code",
        "colab": {}
      },
      "source": [
        "auth.authenticate_user()\n",
        "gauth = GoogleAuth()\n",
        "gauth.credentials = GoogleCredentials.get_application_default()\n",
        "drive = GoogleDrive(gauth)"
      ],
      "execution_count": 0,
      "outputs": []
    },
    {
      "cell_type": "code",
      "metadata": {
        "id": "NOutyFEKftVu",
        "colab_type": "code",
        "colab": {}
      },
      "source": [
        "downloaded = drive.CreateFile({'id':\"1PhaIfXOC1mlkT_qAWCm1c-VZB4zV5SGT\"})  \n",
        "downloaded.GetContentFile('tweets_with_labels.csv')     "
      ],
      "execution_count": 0,
      "outputs": []
    },
    {
      "cell_type": "code",
      "metadata": {
        "id": "XExs8-vKghN1",
        "colab_type": "code",
        "colab": {}
      },
      "source": [
        "# read in the data \n",
        "import pandas as pd\n",
        "df = pd.read_csv('tweets_with_labels.csv',sep='\\t',error_bad_lines=False)"
      ],
      "execution_count": 0,
      "outputs": []
    },
    {
      "cell_type": "code",
      "metadata": {
        "id": "7HHugtA7gneV",
        "colab_type": "code",
        "colab": {
          "base_uri": "https://localhost:8080/",
          "height": 202
        },
        "outputId": "3f6aa147-7187-4fac-c500-755305a3beab"
      },
      "source": [
        "df.head()"
      ],
      "execution_count": 146,
      "outputs": [
        {
          "output_type": "execute_result",
          "data": {
            "text/html": [
              "<div>\n",
              "<style scoped>\n",
              "    .dataframe tbody tr th:only-of-type {\n",
              "        vertical-align: middle;\n",
              "    }\n",
              "\n",
              "    .dataframe tbody tr th {\n",
              "        vertical-align: top;\n",
              "    }\n",
              "\n",
              "    .dataframe thead th {\n",
              "        text-align: right;\n",
              "    }\n",
              "</style>\n",
              "<table border=\"1\" class=\"dataframe\">\n",
              "  <thead>\n",
              "    <tr style=\"text-align: right;\">\n",
              "      <th></th>\n",
              "      <th>id</th>\n",
              "      <th>tweet</th>\n",
              "      <th>k1</th>\n",
              "      <th>k2</th>\n",
              "      <th>k3</th>\n",
              "      <th>k4</th>\n",
              "      <th>k5</th>\n",
              "      <th>k6</th>\n",
              "      <th>k7</th>\n",
              "      <th>k8</th>\n",
              "      <th>k9</th>\n",
              "      <th>k10</th>\n",
              "      <th>k11</th>\n",
              "      <th>k12</th>\n",
              "      <th>k13</th>\n",
              "      <th>k14</th>\n",
              "      <th>k15</th>\n",
              "    </tr>\n",
              "  </thead>\n",
              "  <tbody>\n",
              "    <tr>\n",
              "      <th>0</th>\n",
              "      <td>1</td>\n",
              "      <td>Jazz for a Rainy Afternoon:  {link}</td>\n",
              "      <td>0.0</td>\n",
              "      <td>0.0</td>\n",
              "      <td>0.0</td>\n",
              "      <td>0.0</td>\n",
              "      <td>0.0</td>\n",
              "      <td>0.0</td>\n",
              "      <td>0.000</td>\n",
              "      <td>0.0</td>\n",
              "      <td>0.000</td>\n",
              "      <td>1.0</td>\n",
              "      <td>0.0</td>\n",
              "      <td>0.0</td>\n",
              "      <td>0.000</td>\n",
              "      <td>0.0</td>\n",
              "      <td>0.0</td>\n",
              "    </tr>\n",
              "    <tr>\n",
              "      <th>1</th>\n",
              "      <td>2</td>\n",
              "      <td>RT: @mention: I love rainy days.</td>\n",
              "      <td>0.0</td>\n",
              "      <td>0.0</td>\n",
              "      <td>0.0</td>\n",
              "      <td>0.0</td>\n",
              "      <td>0.0</td>\n",
              "      <td>0.0</td>\n",
              "      <td>0.000</td>\n",
              "      <td>0.0</td>\n",
              "      <td>0.000</td>\n",
              "      <td>1.0</td>\n",
              "      <td>0.0</td>\n",
              "      <td>0.0</td>\n",
              "      <td>0.000</td>\n",
              "      <td>0.0</td>\n",
              "      <td>0.0</td>\n",
              "    </tr>\n",
              "    <tr>\n",
              "      <th>2</th>\n",
              "      <td>3</td>\n",
              "      <td>Good Morning Chicago! Time to kick the Windy C...</td>\n",
              "      <td>0.0</td>\n",
              "      <td>0.0</td>\n",
              "      <td>0.0</td>\n",
              "      <td>0.0</td>\n",
              "      <td>0.0</td>\n",
              "      <td>0.0</td>\n",
              "      <td>1.000</td>\n",
              "      <td>0.0</td>\n",
              "      <td>0.000</td>\n",
              "      <td>0.0</td>\n",
              "      <td>0.0</td>\n",
              "      <td>0.0</td>\n",
              "      <td>0.000</td>\n",
              "      <td>0.0</td>\n",
              "      <td>0.0</td>\n",
              "    </tr>\n",
              "    <tr>\n",
              "      <th>3</th>\n",
              "      <td>6</td>\n",
              "      <td>Preach lol! :) RT @mention: #alliwantis this t...</td>\n",
              "      <td>0.0</td>\n",
              "      <td>0.0</td>\n",
              "      <td>0.0</td>\n",
              "      <td>0.0</td>\n",
              "      <td>0.0</td>\n",
              "      <td>0.0</td>\n",
              "      <td>0.604</td>\n",
              "      <td>0.0</td>\n",
              "      <td>0.196</td>\n",
              "      <td>0.0</td>\n",
              "      <td>0.0</td>\n",
              "      <td>0.0</td>\n",
              "      <td>0.201</td>\n",
              "      <td>0.0</td>\n",
              "      <td>0.0</td>\n",
              "    </tr>\n",
              "    <tr>\n",
              "      <th>4</th>\n",
              "      <td>9</td>\n",
              "      <td>@mention good morning sunshine</td>\n",
              "      <td>0.0</td>\n",
              "      <td>0.0</td>\n",
              "      <td>0.0</td>\n",
              "      <td>0.0</td>\n",
              "      <td>0.0</td>\n",
              "      <td>0.0</td>\n",
              "      <td>0.000</td>\n",
              "      <td>0.0</td>\n",
              "      <td>0.000</td>\n",
              "      <td>0.0</td>\n",
              "      <td>0.0</td>\n",
              "      <td>0.0</td>\n",
              "      <td>1.000</td>\n",
              "      <td>0.0</td>\n",
              "      <td>0.0</td>\n",
              "    </tr>\n",
              "  </tbody>\n",
              "</table>\n",
              "</div>"
            ],
            "text/plain": [
              "   id                                              tweet   k1  ...    k13  k14  k15\n",
              "0   1                Jazz for a Rainy Afternoon:  {link}  0.0  ...  0.000  0.0  0.0\n",
              "1   2                   RT: @mention: I love rainy days.  0.0  ...  0.000  0.0  0.0\n",
              "2   3  Good Morning Chicago! Time to kick the Windy C...  0.0  ...  0.000  0.0  0.0\n",
              "3   6  Preach lol! :) RT @mention: #alliwantis this t...  0.0  ...  0.201  0.0  0.0\n",
              "4   9                     @mention good morning sunshine  0.0  ...  1.000  0.0  0.0\n",
              "\n",
              "[5 rows x 17 columns]"
            ]
          },
          "metadata": {
            "tags": []
          },
          "execution_count": 146
        }
      ]
    },
    {
      "cell_type": "code",
      "metadata": {
        "id": "sNRofNrCjW73",
        "colab_type": "code",
        "colab": {}
      },
      "source": [
        "# drop all na data\n",
        "df= df.dropna()\n"
      ],
      "execution_count": 0,
      "outputs": []
    },
    {
      "cell_type": "code",
      "metadata": {
        "id": "zQ4qtrpuwLjS",
        "colab_type": "code",
        "colab": {
          "base_uri": "https://localhost:8080/",
          "height": 69
        },
        "outputId": "4376dec7-5e12-46c7-fbb6-50327c954bc1"
      },
      "source": [
        "# labels\n",
        "df.columns"
      ],
      "execution_count": 150,
      "outputs": [
        {
          "output_type": "execute_result",
          "data": {
            "text/plain": [
              "Index(['id', 'tweet', 'k1', 'k2', 'k3', 'k4', 'k5', 'k6', 'k7', 'k8', 'k9',\n",
              "       'k10', 'k11', 'k12', 'k13', 'k14', 'k15'],\n",
              "      dtype='object')"
            ]
          },
          "metadata": {
            "tags": []
          },
          "execution_count": 150
        }
      ]
    },
    {
      "cell_type": "code",
      "metadata": {
        "id": "c8OG-w0nmGNY",
        "colab_type": "code",
        "colab": {
          "base_uri": "https://localhost:8080/",
          "height": 202
        },
        "outputId": "4780d7e2-2f89-49b3-ffe5-db454864abce"
      },
      "source": [
        "# get labels for our dataset\n",
        "df_labels = df[['k1', 'k2', 'k3', 'k4', 'k5', 'k6', 'k7', 'k8', 'k9','k10', 'k11', 'k12', 'k13', 'k14', 'k15']]\n",
        "df_labels.head()"
      ],
      "execution_count": 152,
      "outputs": [
        {
          "output_type": "execute_result",
          "data": {
            "text/html": [
              "<div>\n",
              "<style scoped>\n",
              "    .dataframe tbody tr th:only-of-type {\n",
              "        vertical-align: middle;\n",
              "    }\n",
              "\n",
              "    .dataframe tbody tr th {\n",
              "        vertical-align: top;\n",
              "    }\n",
              "\n",
              "    .dataframe thead th {\n",
              "        text-align: right;\n",
              "    }\n",
              "</style>\n",
              "<table border=\"1\" class=\"dataframe\">\n",
              "  <thead>\n",
              "    <tr style=\"text-align: right;\">\n",
              "      <th></th>\n",
              "      <th>k1</th>\n",
              "      <th>k2</th>\n",
              "      <th>k3</th>\n",
              "      <th>k4</th>\n",
              "      <th>k5</th>\n",
              "      <th>k6</th>\n",
              "      <th>k7</th>\n",
              "      <th>k8</th>\n",
              "      <th>k9</th>\n",
              "      <th>k10</th>\n",
              "      <th>k11</th>\n",
              "      <th>k12</th>\n",
              "      <th>k13</th>\n",
              "      <th>k14</th>\n",
              "      <th>k15</th>\n",
              "    </tr>\n",
              "  </thead>\n",
              "  <tbody>\n",
              "    <tr>\n",
              "      <th>0</th>\n",
              "      <td>0.0</td>\n",
              "      <td>0.0</td>\n",
              "      <td>0.0</td>\n",
              "      <td>0.0</td>\n",
              "      <td>0.0</td>\n",
              "      <td>0.0</td>\n",
              "      <td>0.000</td>\n",
              "      <td>0.0</td>\n",
              "      <td>0.000</td>\n",
              "      <td>1.0</td>\n",
              "      <td>0.0</td>\n",
              "      <td>0.0</td>\n",
              "      <td>0.000</td>\n",
              "      <td>0.0</td>\n",
              "      <td>0.0</td>\n",
              "    </tr>\n",
              "    <tr>\n",
              "      <th>1</th>\n",
              "      <td>0.0</td>\n",
              "      <td>0.0</td>\n",
              "      <td>0.0</td>\n",
              "      <td>0.0</td>\n",
              "      <td>0.0</td>\n",
              "      <td>0.0</td>\n",
              "      <td>0.000</td>\n",
              "      <td>0.0</td>\n",
              "      <td>0.000</td>\n",
              "      <td>1.0</td>\n",
              "      <td>0.0</td>\n",
              "      <td>0.0</td>\n",
              "      <td>0.000</td>\n",
              "      <td>0.0</td>\n",
              "      <td>0.0</td>\n",
              "    </tr>\n",
              "    <tr>\n",
              "      <th>2</th>\n",
              "      <td>0.0</td>\n",
              "      <td>0.0</td>\n",
              "      <td>0.0</td>\n",
              "      <td>0.0</td>\n",
              "      <td>0.0</td>\n",
              "      <td>0.0</td>\n",
              "      <td>1.000</td>\n",
              "      <td>0.0</td>\n",
              "      <td>0.000</td>\n",
              "      <td>0.0</td>\n",
              "      <td>0.0</td>\n",
              "      <td>0.0</td>\n",
              "      <td>0.000</td>\n",
              "      <td>0.0</td>\n",
              "      <td>0.0</td>\n",
              "    </tr>\n",
              "    <tr>\n",
              "      <th>3</th>\n",
              "      <td>0.0</td>\n",
              "      <td>0.0</td>\n",
              "      <td>0.0</td>\n",
              "      <td>0.0</td>\n",
              "      <td>0.0</td>\n",
              "      <td>0.0</td>\n",
              "      <td>0.604</td>\n",
              "      <td>0.0</td>\n",
              "      <td>0.196</td>\n",
              "      <td>0.0</td>\n",
              "      <td>0.0</td>\n",
              "      <td>0.0</td>\n",
              "      <td>0.201</td>\n",
              "      <td>0.0</td>\n",
              "      <td>0.0</td>\n",
              "    </tr>\n",
              "    <tr>\n",
              "      <th>4</th>\n",
              "      <td>0.0</td>\n",
              "      <td>0.0</td>\n",
              "      <td>0.0</td>\n",
              "      <td>0.0</td>\n",
              "      <td>0.0</td>\n",
              "      <td>0.0</td>\n",
              "      <td>0.000</td>\n",
              "      <td>0.0</td>\n",
              "      <td>0.000</td>\n",
              "      <td>0.0</td>\n",
              "      <td>0.0</td>\n",
              "      <td>0.0</td>\n",
              "      <td>1.000</td>\n",
              "      <td>0.0</td>\n",
              "      <td>0.0</td>\n",
              "    </tr>\n",
              "  </tbody>\n",
              "</table>\n",
              "</div>"
            ],
            "text/plain": [
              "    k1   k2   k3   k4   k5   k6     k7  ...     k9  k10  k11  k12    k13  k14  k15\n",
              "0  0.0  0.0  0.0  0.0  0.0  0.0  0.000  ...  0.000  1.0  0.0  0.0  0.000  0.0  0.0\n",
              "1  0.0  0.0  0.0  0.0  0.0  0.0  0.000  ...  0.000  1.0  0.0  0.0  0.000  0.0  0.0\n",
              "2  0.0  0.0  0.0  0.0  0.0  0.0  1.000  ...  0.000  0.0  0.0  0.0  0.000  0.0  0.0\n",
              "3  0.0  0.0  0.0  0.0  0.0  0.0  0.604  ...  0.196  0.0  0.0  0.0  0.201  0.0  0.0\n",
              "4  0.0  0.0  0.0  0.0  0.0  0.0  0.000  ...  0.000  0.0  0.0  0.0  1.000  0.0  0.0\n",
              "\n",
              "[5 rows x 15 columns]"
            ]
          },
          "metadata": {
            "tags": []
          },
          "execution_count": 152
        }
      ]
    },
    {
      "cell_type": "code",
      "metadata": {
        "id": "NRccaiOZkSpr",
        "colab_type": "code",
        "colab": {}
      },
      "source": [
        "# function for cleaning the text\n",
        "def preprocess_text(sen):\n",
        "    # Remove punctuations and numbers\n",
        "    sentence = re.sub('[^a-zA-Z]', ' ', sen)\n",
        "\n",
        "    # Single character removal\n",
        "    sentence = re.sub(r\"\\s+[a-zA-Z]\\s+\", ' ', sentence)\n",
        "\n",
        "    # Removing multiple spaces\n",
        "    sentence = re.sub(r'\\s+', ' ', sentence)\n",
        "\n",
        "    return sentence"
      ],
      "execution_count": 0,
      "outputs": []
    },
    {
      "cell_type": "code",
      "metadata": {
        "id": "t0RVquAVl5-Q",
        "colab_type": "code",
        "colab": {}
      },
      "source": [
        "# store output in y value \n",
        "import re\n",
        "X = []\n",
        "sentences = list(df[\"tweet\"])\n",
        "for sen in sentences:\n",
        "    X.append(preprocess_text(sen))\n",
        "\n",
        "y = df_labels.values"
      ],
      "execution_count": 0,
      "outputs": []
    },
    {
      "cell_type": "code",
      "metadata": {
        "id": "J6pPO6xPwnYK",
        "colab_type": "code",
        "colab": {}
      },
      "source": [
        "# split data into training and test data \n",
        "X_train, X_test, y_train, y_test = train_test_split(X, y, test_size=0.30, random_state=42)\n"
      ],
      "execution_count": 0,
      "outputs": []
    },
    {
      "cell_type": "code",
      "metadata": {
        "id": "Lt8AACGxw4oi",
        "colab_type": "code",
        "colab": {}
      },
      "source": [
        "# convert text inputs into embedded vectors\n",
        "tokenizer = Tokenizer(num_words=5000)\n",
        "tokenizer.fit_on_texts(X_train)\n",
        "\n",
        "X_train = tokenizer.texts_to_sequences(X_train)\n",
        "X_test = tokenizer.texts_to_sequences(X_test)\n",
        "\n",
        "vocab_size = len(tokenizer.word_index) + 1\n",
        "# Max number of words\n",
        "max_features = 10000\n",
        "\n",
        "maxlen = 64\n",
        "\n",
        "X_train = pad_sequences(X_train, padding='post', maxlen=maxlen)\n",
        "X_test = pad_sequences(X_test, padding='post', maxlen=maxlen)"
      ],
      "execution_count": 0,
      "outputs": []
    },
    {
      "cell_type": "code",
      "metadata": {
        "id": "SWdOCWrUxoNo",
        "colab_type": "code",
        "colab": {
          "base_uri": "https://localhost:8080/",
          "height": 52
        },
        "outputId": "bae1246e-dc1e-4716-bb28-399ed7ad5beb"
      },
      "source": [
        "print('input_train shape:', X_train.shape)\n",
        "print('input_test shape:', y_train.shape)"
      ],
      "execution_count": 176,
      "outputs": [
        {
          "output_type": "stream",
          "text": [
            "input_train shape: (54562, 64)\n",
            "input_test shape: (54562, 15)\n"
          ],
          "name": "stdout"
        }
      ]
    },
    {
      "cell_type": "code",
      "metadata": {
        "id": "TvODby3rx3P4",
        "colab_type": "code",
        "colab": {}
      },
      "source": [
        "# --- Training model: Embedding + RNN ---\n",
        "model = Sequential()\n",
        "model.add(Embedding(max_features, 32))\n",
        "#model.add(SimpleRNN(32))\n",
        "#model.add(GRU(32))\n",
        "model.add(LSTM(32))\n",
        "model.add(Dense(15, activation ='sigmoid'))\n"
      ],
      "execution_count": 0,
      "outputs": []
    },
    {
      "cell_type": "code",
      "metadata": {
        "id": "OKtRDLX2yoDB",
        "colab_type": "code",
        "colab": {}
      },
      "source": [
        "# Max number of comments read in at at ime\n",
        "batch_size = 64"
      ],
      "execution_count": 0,
      "outputs": []
    },
    {
      "cell_type": "code",
      "metadata": {
        "id": "z8vWccIayWhI",
        "colab_type": "code",
        "colab": {
          "base_uri": "https://localhost:8080/",
          "height": 260
        },
        "outputId": "f33a19b3-00b7-430e-e5eb-81acdb47a610"
      },
      "source": [
        "model.summary()"
      ],
      "execution_count": 179,
      "outputs": [
        {
          "output_type": "stream",
          "text": [
            "Model: \"sequential_5\"\n",
            "_________________________________________________________________\n",
            "Layer (type)                 Output Shape              Param #   \n",
            "=================================================================\n",
            "embedding_4 (Embedding)      (None, None, 32)          320000    \n",
            "_________________________________________________________________\n",
            "lstm_4 (LSTM)                (None, 32)                8320      \n",
            "_________________________________________________________________\n",
            "dense_8 (Dense)              (None, 15)                495       \n",
            "=================================================================\n",
            "Total params: 328,815\n",
            "Trainable params: 328,815\n",
            "Non-trainable params: 0\n",
            "_________________________________________________________________\n"
          ],
          "name": "stdout"
        }
      ]
    },
    {
      "cell_type": "code",
      "metadata": {
        "id": "0yVyKktVzA29",
        "colab_type": "code",
        "colab": {
          "base_uri": "https://localhost:8080/",
          "height": 381
        },
        "outputId": "35ad49c9-b76e-402c-9e5d-0ba8a2699d3e"
      },
      "source": [
        "# --- Locations to save model ---\n",
        "save_path_weights = os.path.join(cwd,'rnn_weights.h5')\n",
        "save_path_model = os.path.join(cwd,'rnn_model.h5')\n",
        "\n",
        "# --- Compile Model ---\n",
        "#Compile model\n",
        "model.compile(optimizer = 'adam',\n",
        "             loss = 'categorical_crossentropy',\n",
        "             metrics=['acc'])\n",
        "\n",
        "# If we want to checkpoint our model so we don't rerun it\n",
        "checkpointer = ModelCheckpoint(filepath=save_path_weights, \n",
        "                               verbose=1, save_best_only=True)\n",
        "\n",
        "\n",
        "# Verbose=0 -> to avoid jupyter notebook freezing\n",
        "history = model.fit(X_train, y_train, \n",
        "                    epochs = 10, batch_size = 64, \n",
        "                    validation_split = 0.2,verbose=1)"
      ],
      "execution_count": 203,
      "outputs": [
        {
          "output_type": "stream",
          "text": [
            "Train on 43649 samples, validate on 10913 samples\n",
            "Epoch 1/10\n",
            "43649/43649 [==============================] - 51s 1ms/step - loss: 1.3908 - acc: 0.7621 - val_loss: 1.8137 - val_acc: 0.5270\n",
            "Epoch 2/10\n",
            "43649/43649 [==============================] - 44s 1ms/step - loss: 1.4876 - acc: 0.7127 - val_loss: 1.4839 - val_acc: 0.7531\n",
            "Epoch 3/10\n",
            "43649/43649 [==============================] - 47s 1ms/step - loss: 1.4442 - acc: 0.7606 - val_loss: 1.7306 - val_acc: 0.6764\n",
            "Epoch 4/10\n",
            "43649/43649 [==============================] - 45s 1ms/step - loss: 1.4412 - acc: 0.7620 - val_loss: 1.5107 - val_acc: 0.7407\n",
            "Epoch 5/10\n",
            "43649/43649 [==============================] - 49s 1ms/step - loss: 1.4233 - acc: 0.7608 - val_loss: 1.4788 - val_acc: 0.7594\n",
            "Epoch 6/10\n",
            "43649/43649 [==============================] - 52s 1ms/step - loss: 1.3941 - acc: 0.7795 - val_loss: 1.4077 - val_acc: 0.7776\n",
            "Epoch 7/10\n",
            "43649/43649 [==============================] - 45s 1ms/step - loss: 1.3526 - acc: 0.7868 - val_loss: 1.4046 - val_acc: 0.7706\n",
            "Epoch 8/10\n",
            "43649/43649 [==============================] - 49s 1ms/step - loss: 1.3419 - acc: 0.7881 - val_loss: 1.4875 - val_acc: 0.7503\n",
            "Epoch 9/10\n",
            "43649/43649 [==============================] - 52s 1ms/step - loss: 1.3461 - acc: 0.7889 - val_loss: 1.3820 - val_acc: 0.7804\n",
            "Epoch 10/10\n",
            "43649/43649 [==============================] - 52s 1ms/step - loss: 1.3101 - acc: 0.8000 - val_loss: 1.3756 - val_acc: 0.7937\n"
          ],
          "name": "stdout"
        }
      ]
    },
    {
      "cell_type": "markdown",
      "metadata": {
        "id": "wjNhepYjzw_f",
        "colab_type": "text"
      },
      "source": [
        "## 3.2 CNN"
      ]
    },
    {
      "cell_type": "code",
      "metadata": {
        "id": "G7Diy5LWzqU2",
        "colab_type": "code",
        "colab": {}
      },
      "source": [
        "# import libs\n",
        "from __future__ import print_function\n",
        "\n",
        "from keras.preprocessing import sequence\n",
        "from keras.models import Sequential\n",
        "from keras.layers import Dense, Dropout, Activation\n",
        "from keras.layers import Embedding\n",
        "from keras.layers import Conv1D, GlobalMaxPooling1D"
      ],
      "execution_count": 0,
      "outputs": []
    },
    {
      "cell_type": "code",
      "metadata": {
        "id": "2BEnsPMv0EPG",
        "colab_type": "code",
        "colab": {}
      },
      "source": [
        "# set parameters\n",
        "embedding_dims = 50\n",
        "filters = 250\n",
        "kernel_size = 3\n",
        "hidden_dims = 250\n",
        "epochs = 10"
      ],
      "execution_count": 0,
      "outputs": []
    },
    {
      "cell_type": "code",
      "metadata": {
        "id": "D1cI6rAg0KgG",
        "colab_type": "code",
        "colab": {}
      },
      "source": [
        "# build model\n",
        "model = Sequential()\n",
        "model.add(Embedding(max_features,\n",
        "                    embedding_dims,\n",
        "                    input_length=maxlen))\n",
        "model.add(Dropout(0.2))\n",
        "# add a Convolution1D, which will learn filters\n",
        "# word group filters of size filter_length\n",
        "model.add(Conv1D(filters,\n",
        "                 kernel_size,\n",
        "                 padding='valid',\n",
        "                 activation='relu',\n",
        "                 strides=1))\n",
        "# we use max pooling\n",
        "model.add(GlobalMaxPooling1D())\n",
        "\n",
        "# We add a vanilla hidden layer:\n",
        "model.add(Dense(hidden_dims))\n",
        "model.add(Dropout(0.2))\n",
        "model.add(Activation('relu'))\n",
        "\n",
        "# We project onto a single unit output layer, and squash it with a sigmoid:\n",
        "model.add(Dense(15))\n",
        "model.add(Activation('sigmoid'))"
      ],
      "execution_count": 0,
      "outputs": []
    },
    {
      "cell_type": "code",
      "metadata": {
        "id": "K0l9Kh6w0bYE",
        "colab_type": "code",
        "colab": {
          "base_uri": "https://localhost:8080/",
          "height": 468
        },
        "outputId": "7b610f3e-154b-488f-d604-63419d9a6da1"
      },
      "source": [
        "model.summary()"
      ],
      "execution_count": 191,
      "outputs": [
        {
          "output_type": "stream",
          "text": [
            "Model: \"sequential_9\"\n",
            "_________________________________________________________________\n",
            "Layer (type)                 Output Shape              Param #   \n",
            "=================================================================\n",
            "embedding_8 (Embedding)      (None, 64, 50)            500000    \n",
            "_________________________________________________________________\n",
            "dropout_8 (Dropout)          (None, 64, 50)            0         \n",
            "_________________________________________________________________\n",
            "conv1d_4 (Conv1D)            (None, 62, 250)           37750     \n",
            "_________________________________________________________________\n",
            "global_max_pooling1d_4 (Glob (None, 250)               0         \n",
            "_________________________________________________________________\n",
            "dense_15 (Dense)             (None, 250)               62750     \n",
            "_________________________________________________________________\n",
            "dropout_9 (Dropout)          (None, 250)               0         \n",
            "_________________________________________________________________\n",
            "activation_104 (Activation)  (None, 250)               0         \n",
            "_________________________________________________________________\n",
            "dense_16 (Dense)             (None, 15)                3765      \n",
            "_________________________________________________________________\n",
            "activation_105 (Activation)  (None, 15)                0         \n",
            "=================================================================\n",
            "Total params: 604,265\n",
            "Trainable params: 604,265\n",
            "Non-trainable params: 0\n",
            "_________________________________________________________________\n"
          ],
          "name": "stdout"
        }
      ]
    },
    {
      "cell_type": "code",
      "metadata": {
        "id": "Qf2V_KDE0i4R",
        "colab_type": "code",
        "colab": {
          "base_uri": "https://localhost:8080/",
          "height": 381
        },
        "outputId": "3c5e1907-b2de-4769-8d5b-0adc09c2d719"
      },
      "source": [
        "model.compile(loss='categorical_crossentropy',\n",
        "              optimizer='adam',\n",
        "              metrics=['accuracy'])\n",
        "# use the same proportion for training and validation here\n",
        "history_cnn = model.fit(X_train, y_train,\n",
        "          batch_size=batch_size,\n",
        "          epochs=epochs,\n",
        "          validation_split = 0.2)"
      ],
      "execution_count": 199,
      "outputs": [
        {
          "output_type": "stream",
          "text": [
            "Train on 43649 samples, validate on 10913 samples\n",
            "Epoch 1/10\n",
            "43649/43649 [==============================] - 34s 788us/step - loss: 1.0401 - acc: 0.8231 - val_loss: 1.0775 - val_acc: 0.8166\n",
            "Epoch 2/10\n",
            "43649/43649 [==============================] - 30s 684us/step - loss: 1.0159 - acc: 0.8272 - val_loss: 1.0867 - val_acc: 0.8185\n",
            "Epoch 3/10\n",
            "43649/43649 [==============================] - 30s 694us/step - loss: 0.9916 - acc: 0.8325 - val_loss: 1.0947 - val_acc: 0.8192\n",
            "Epoch 4/10\n",
            "43649/43649 [==============================] - 30s 689us/step - loss: 0.9722 - acc: 0.8372 - val_loss: 1.1037 - val_acc: 0.8133\n",
            "Epoch 5/10\n",
            "43649/43649 [==============================] - 30s 693us/step - loss: 0.9571 - acc: 0.8372 - val_loss: 1.1090 - val_acc: 0.8146\n",
            "Epoch 6/10\n",
            "43649/43649 [==============================] - 31s 699us/step - loss: 0.9397 - acc: 0.8412 - val_loss: 1.1192 - val_acc: 0.8139\n",
            "Epoch 7/10\n",
            "43649/43649 [==============================] - 30s 696us/step - loss: 0.9287 - acc: 0.8425 - val_loss: 1.1177 - val_acc: 0.8146\n",
            "Epoch 8/10\n",
            "43649/43649 [==============================] - 30s 689us/step - loss: 0.9203 - acc: 0.8436 - val_loss: 1.1492 - val_acc: 0.8120\n",
            "Epoch 9/10\n",
            "43649/43649 [==============================] - 30s 692us/step - loss: 0.9088 - acc: 0.8457 - val_loss: 1.1484 - val_acc: 0.8113\n",
            "Epoch 10/10\n",
            "43649/43649 [==============================] - 30s 694us/step - loss: 0.8974 - acc: 0.8470 - val_loss: 1.1805 - val_acc: 0.8127\n"
          ],
          "name": "stdout"
        }
      ]
    },
    {
      "cell_type": "markdown",
      "metadata": {
        "id": "nfy5CgJS2yPR",
        "colab_type": "text"
      },
      "source": [
        "## 3.3 Compare two models \n",
        "\n",
        "RNN:"
      ]
    },
    {
      "cell_type": "code",
      "metadata": {
        "id": "-ekKbG3gzKi0",
        "colab_type": "code",
        "colab": {
          "base_uri": "https://localhost:8080/",
          "height": 545
        },
        "outputId": "72e9e2b6-e12f-4391-d5f3-e3311a8abd78"
      },
      "source": [
        "# --- Plotting performance ---\n",
        "acc = history.history['acc']\n",
        "val_acc = history.history['val_acc']\n",
        "loss = history.history['loss']\n",
        "val_loss = history.history['val_loss']\n",
        "\n",
        "epochs = range(1, len(acc) + 1)\n",
        "\n",
        "plt.plot(epochs, acc, 'bo', label = 'Training acc')\n",
        "plt.plot(epochs, val_acc, 'b', label = 'Validation acc')\n",
        "plt.title('Training and validation accuracy for RNN')\n",
        "plt.legend()\n",
        "\n",
        "plt.figure()\n",
        "\n",
        "plt.plot(epochs, loss, 'bo', label = 'Training Loss')\n",
        "plt.plot(epochs, val_loss, 'b', label = 'Validation Loss')\n",
        "plt.title('Training and validation Loss for RNN')\n",
        "plt.legend()\n",
        "\n",
        "plt.show()"
      ],
      "execution_count": 204,
      "outputs": [
        {
          "output_type": "display_data",
          "data": {
            "image/png": "[encoded data removed]",
            "text/plain": [
              "<Figure size 432x288 with 1 Axes>"
            ]
          },
          "metadata": {
            "tags": []
          }
        },
        {
          "output_type": "display_data",
          "data": {
            "image/png": "[encoded data removed]",
            "text/plain": [
              "<Figure size 432x288 with 1 Axes>"
            ]
          },
          "metadata": {
            "tags": []
          }
        }
      ]
    },
    {
      "cell_type": "markdown",
      "metadata": {
        "id": "Huup1ubb283L",
        "colab_type": "text"
      },
      "source": [
        "CNN:"
      ]
    },
    {
      "cell_type": "code",
      "metadata": {
        "id": "_XSZ-bya24RT",
        "colab_type": "code",
        "colab": {
          "base_uri": "https://localhost:8080/",
          "height": 545
        },
        "outputId": "d588c3f4-93b6-4463-e0cf-a476f5d2fb68"
      },
      "source": [
        "# --- Plotting performance ---\n",
        "acc = history_cnn.history['acc']\n",
        "val_acc = history_cnn.history['val_acc']\n",
        "loss = history_cnn.history['loss']\n",
        "val_loss = history_cnn.history['val_loss']\n",
        "\n",
        "epochs = range(1, len(acc) + 1)\n",
        "\n",
        "plt.plot(epochs, acc, 'bo', label = 'Training acc')\n",
        "plt.plot(epochs, val_acc, 'b', label = 'Validation acc')\n",
        "plt.title('Training and validation accuracy for CNN')\n",
        "plt.legend()\n",
        "\n",
        "plt.figure()\n",
        "\n",
        "plt.plot(epochs, loss, 'bo', label = 'Training Loss')\n",
        "plt.plot(epochs, val_loss, 'b', label = 'Validation Loss')\n",
        "plt.title('Training and validation Loss for CNN')\n",
        "plt.legend()\n",
        "\n",
        "plt.show()"
      ],
      "execution_count": 205,
      "outputs": [
        {
          "output_type": "display_data",
          "data": {
            "image/png": "[encoded data removed]",
            "text/plain": [
              "<Figure size 432x288 with 1 Axes>"
            ]
          },
          "metadata": {
            "tags": []
          }
        },
        {
          "output_type": "display_data",
          "data": {
            "image/png": "[encoded data removed]",
            "text/plain": [
              "<Figure size 432x288 with 1 Axes>"
            ]
          },
          "metadata": {
            "tags": []
          }
        }
      ]
    },
    {
      "cell_type": "markdown",
      "metadata": {
        "id": "RO7ybmLO3iAX",
        "colab_type": "text"
      },
      "source": [
        "**Conclusion:** \n",
        "\n",
        "From the above performances plots, we could observe that:\n",
        "* In general, this simple RNN does a similar level of performance with CNN here. We see that RNN could reach an accuracy level of about 80% for validation set, while CNN reaches an accuracy of around 82% after 10 epoches.\n",
        "* RNN tends to be more 'unstable' than CNN. We see the accuracy level and loss of RNN has a sharper curve than CNN. CNN tends to learn in a more stable rate in this case. "
      ]
    },
    {
      "cell_type": "code",
      "metadata": {
        "id": "Hr1xNvwl3FMq",
        "colab_type": "code",
        "colab": {}
      },
      "source": [
        ""
      ],
      "execution_count": 0,
      "outputs": []
    }
  ]
}